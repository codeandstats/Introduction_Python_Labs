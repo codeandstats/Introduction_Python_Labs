{
 "cells": [
  {
   "attachments": {},
   "cell_type": "markdown",
   "metadata": {},
   "source": [
    "### Dictionary, Exercises"
   ]
  },
  {
   "attachments": {},
   "cell_type": "markdown",
   "metadata": {},
   "source": [
    "1.\tCreate an empty dictionary named my_dict. Add a key `name` with the value `John`, and a key `age` with the value 30.\n",
    "2.\tCreate a dictionary named fruit_count with keys `apple`, `banana`, and `orange`. Set the values of each key to 0.\n",
    "3.\tWrite a function named `word_count` that takes a string as input and returns a dictionary with each word in the string as a key and the number of times it appears as the value.\n",
    "4.\tCreate a dictionary named phone_book with the following key-value pairs: `Alice`: `555-1234`, `Bob`: `555-5678`, `Charlie`: `555-9999`.\n",
    "5.\tWrite a function named `reverse_dict` that takes a dictionary as input and returns a new dictionary with the keys and values reversed.\n",
    "6.\tCreate a dictionary named `inventory` with keys `apples`, `bananas`, and `oranges`. Set the values of each key to a random number between 1 and 10.\n",
    "7.\tWrite a function named `merge_dicts` that takes two dictionaries as input and returns a new dictionary that contains all the key-value pairs from both dictionaries.\n",
    "8.\tCreate a dictionary named menu with keys `hamburger`, `fries`, and `drink`. Set the values of each key to a price in dollars (e.g. `hamburger`: 5.99).\n",
    "9.\tWrite a function named `menu_total` that takes a dictionary of items and prices as input and returns the total cost of the items in the dictionary.\n",
    "10.\tCreate a dictionary named students with keys `Alice`, `Bob`, and `Charlie`. Set the values of each key to a dictionary with keys `age` and `grades`. Set the value of `age` to a random number between 18 and 25, and the value of `grades` to a list of random integers between 60 and 100.\n"
   ]
  },
  {
   "cell_type": "code",
   "execution_count": null,
   "metadata": {},
   "outputs": [],
   "source": [
    "my_dict = {}\n",
    "my_dict['name'] = 'John'\n",
    "my_dict['age'] = 30\n",
    "\n",
    "fruit_count = {'apple': 0, 'banana': 0, 'orange': 0}\n",
    "\n",
    "\n",
    "\n",
    "phone_book = {'Alice': '555-1234', 'Bob': '555-5678', 'Charlie': '555-9999'}\n",
    "\n",
    "def reverse_dict(d):\n",
    "    new_dict = {}\n",
    "    for key, value in d.items():\n",
    "        new_dict[value] = key\n",
    "    return new_dict\n",
    "\n",
    "import random\n",
    "\n",
    "inventory = {'apples': random.randint(1, 10), 'bananas': random.randint(1, 10), 'oranges': random.randint(1, 10)}\n",
    "\n",
    "def merge_dicts(d1, d2):\n",
    "    new_dict = {}\n",
    "    for key, value in d1.items():\n",
    "        new_dict[key] = value\n",
    "    for key, value in d2.items():\n",
    "        new_dict[key] = value\n",
    "    return new_dict\n",
    "\n",
    "menu = {'hamburger': 5.99, 'fries': 2.99, 'drink': 1.99}\n",
    "\n",
    "def menu_total(menu_items):\n",
    "    total = 0\n",
    "    for item, price in menu_items.items():\n",
    "        total += price\n",
    "    return total\n",
    "\n",
    "students = {'Alice': {'age': random.randint(18, 25), 'grades': [random.randint(60, 100) for i in range(5)]},\n",
    "            'Bob': {'age': random.randint(18, 25), 'grades': [random.randint(60, 100) for i in range(5)]},\n",
    "            'Charlie': {'age': random.randint(18, 25), 'grades': [random.randint(60, 100) for i in range(5)]}}\n",
    "\n"
   ]
  },
  {
   "cell_type": "code",
   "execution_count": 4,
   "metadata": {},
   "outputs": [],
   "source": [
    "def word_count(string):\n",
    "    words = string.split()\n",
    "    count_dict = {}\n",
    "    for word in words:\n",
    "        if word in count_dict:\n",
    "            count_dict[word] += 1\n",
    "        else:\n",
    "            count_dict[word] = 1\n",
    "    return count_dict\n"
   ]
  },
  {
   "attachments": {},
   "cell_type": "markdown",
   "metadata": {},
   "source": [
    "Yoda, in Star Wars Episode I: The Phantom Menace\n",
    "\n",
    "> Fear leads to anger; anger leads to hatred; hatred leads to conflict; conflict leads to suffering.\""
   ]
  },
  {
   "cell_type": "code",
   "execution_count": 6,
   "metadata": {},
   "outputs": [
    {
     "data": {
      "text/plain": [
       "{'Fear': 1,\n",
       " 'leads': 4,\n",
       " 'to': 4,\n",
       " 'anger': 2,\n",
       " ';': 3,\n",
       " 'hatred': 2,\n",
       " 'conflict': 2,\n",
       " 'suffering': 1,\n",
       " '.': 1}"
      ]
     },
     "execution_count": 6,
     "metadata": {},
     "output_type": "execute_result"
    }
   ],
   "source": [
    "text = \"Fear leads to anger ; anger leads to hatred ; hatred leads to conflict ; conflict leads to suffering .\"\n",
    "word_count(text)"
   ]
  }
 ],
 "metadata": {
  "kernelspec": {
   "display_name": "aug_hs_env",
   "language": "python",
   "name": "python3"
  },
  "language_info": {
   "codemirror_mode": {
    "name": "ipython",
    "version": 3
   },
   "file_extension": ".py",
   "mimetype": "text/x-python",
   "name": "python",
   "nbconvert_exporter": "python",
   "pygments_lexer": "ipython3",
   "version": "3.9.0"
  },
  "orig_nbformat": 4
 },
 "nbformat": 4,
 "nbformat_minor": 2
}
