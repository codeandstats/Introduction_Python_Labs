{
 "cells": [
  {
   "attachments": {},
   "cell_type": "markdown",
   "metadata": {},
   "source": [
    "### Dictionary, Exercises"
   ]
  },
  {
   "attachments": {},
   "cell_type": "markdown",
   "metadata": {},
   "source": [
    "1.\tCreate an empty dictionary named my_dict. Add a key `name` with the value `John`, and a key `age` with the value 30.\n",
    "2.\tCreate a dictionary named fruit_count with keys `apple`, `banana`, and `orange`. Set the values of each key to 0.\n",
    "3.\tWrite a function named `word_count` that takes a string as input and returns a dictionary with each word in the string as a key and the number of times it appears as the value.\n",
    "4.\tCreate a dictionary named phone_book with the following key-value pairs: `Alice`: `555-1234`, `Bob`: `555-5678`, `Charlie`: `555-9999`.\n",
    "5.\tWrite a function named `reverse_dict` that takes a dictionary as input and returns a new dictionary with the keys and values reversed.\n",
    "6.\tCreate a dictionary named `inventory` with keys `apples`, `bananas`, and `oranges`. Set the values of each key to a random number between 1 and 10.\n",
    "7.\tWrite a function named `merge_dicts` that takes two dictionaries as input and returns a new dictionary that contains all the key-value pairs from both dictionaries.\n",
    "8.\tCreate a dictionary named menu with keys `hamburger`, `fries`, and `drink`. Set the values of each key to a price in dollars (e.g. `hamburger`: 5.99).\n",
    "9.\tWrite a function named `menu_total` that takes a dictionary of items and prices as input and returns the total cost of the items in the dictionary.\n",
    "10.\tCreate a dictionary named students with keys `Alice`, `Bob`, and `Charlie`. Set the values of each key to a dictionary with keys `age` and `grades`. Set the value of `age` to a random number between 18 and 25, and the value of `grades` to a list of random integers between 60 and 100.\n"
   ]
  }
 ],
 "metadata": {
  "language_info": {
   "name": "python"
  },
  "orig_nbformat": 4
 },
 "nbformat": 4,
 "nbformat_minor": 2
}
